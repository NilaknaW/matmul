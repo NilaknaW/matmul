{
 "cells": [
  {
   "cell_type": "markdown",
   "id": "776a6b06",
   "metadata": {},
   "source": [
    "# strassen's algorithm implementation "
   ]
  },
  {
   "cell_type": "markdown",
   "id": "0c745ff5",
   "metadata": {},
   "source": [
    "### 2x2 matrix"
   ]
  },
  {
   "cell_type": "code",
   "execution_count": 207,
   "id": "7cff2f9a",
   "metadata": {},
   "outputs": [],
   "source": [
    "A = [[1,2],[3,4]] # matrix A\n",
    "B = [[5,6],[7,8]] # matrix B\n",
    "M = [[0,0],[0,0]] # matrix M"
   ]
  },
  {
   "cell_type": "markdown",
   "id": "7eea9ff5",
   "metadata": {},
   "source": [
    "additions and 7 multiplications (instead of conventional 8 muls)"
   ]
  },
  {
   "cell_type": "code",
   "execution_count": 208,
   "id": "e0786019",
   "metadata": {},
   "outputs": [],
   "source": [
    "p1 = (A[0][0]+A[1][1]) * (B[0][0]+B[1][1])\n",
    "p2 = (A[1][0]+A[1][1]) * B[0][0]\n",
    "p3 = A[0][0] * (B[0][1]-B[1][1])\n",
    "p4 = A[1][0] * (B[1][0]-B[0][0])\n",
    "p5 = (A[0][0]+A[0][1]) * B[1][1]\n",
    "p6 = (A[1][0]-A[0][0]) * (B[0][0]+B[0][1])\n",
    "p7 = (A[0][1]-A[1][1]) * (B[1][0]+B[1][1])"
   ]
  },
  {
   "cell_type": "markdown",
   "id": "07782865",
   "metadata": {},
   "source": [
    "final additions"
   ]
  },
  {
   "cell_type": "code",
   "execution_count": 209,
   "id": "8962fc07",
   "metadata": {},
   "outputs": [],
   "source": [
    "M[0][0] = p1 + p4 - p5 + p7\n",
    "M[0][1] = p3 + p5\n",
    "M[1][0] = p2 + p4\n",
    "M[1][1] = p1 + p3 - p2 + p6"
   ]
  },
  {
   "cell_type": "code",
   "execution_count": 210,
   "id": "001ab2e7",
   "metadata": {},
   "outputs": [
    {
     "data": {
      "text/plain": [
       "[[17, 22], [41, 50]]"
      ]
     },
     "execution_count": 210,
     "metadata": {},
     "output_type": "execute_result"
    }
   ],
   "source": [
    "M\n"
   ]
  },
  {
   "cell_type": "markdown",
   "id": "6c4a529d",
   "metadata": {},
   "source": [
    "verification"
   ]
  },
  {
   "cell_type": "markdown",
   "id": "e1d28680",
   "metadata": {},
   "source": [
    "## 4x4 matrix"
   ]
  },
  {
   "cell_type": "markdown",
   "id": "8f666133",
   "metadata": {},
   "source": [
    "this has 7 2x2 matmuls resulting in 49 muls\n",
    "\n",
    "2x2 strassen takes 10 + 8 = 18 additions and 7 muls"
   ]
  },
  {
   "cell_type": "markdown",
   "id": "0d1113a6",
   "metadata": {},
   "source": [
    "so lets first create a function (module in rtl) for 2x2 matmul"
   ]
  },
  {
   "cell_type": "code",
   "execution_count": 211,
   "id": "0082898b",
   "metadata": {},
   "outputs": [],
   "source": [
    "def matmul_2x2 (A, B):\n",
    "    \"\"\"\n",
    "    Multiplies two 2x2 matrices A and B using the Strassen algorithm.\n",
    "    \"\"\"\n",
    "    M = [[0, 0], [0, 0]]  # Resultant matrix\n",
    "    \n",
    "    p1 = (A[0][0] + A[1][1]) * (B[0][0] + B[1][1])\n",
    "    p2 = (A[1][0] + A[1][1]) * B[0][0]\n",
    "    p3 = A[0][0] * (B[0][1] - B[1][1])\n",
    "    p4 = A[1][1] * (B[1][0] - B[0][0])\n",
    "    p5 = (A[0][0] + A[0][1]) * B[1][1]\n",
    "    p6 = (A[1][0] - A[0][0]) * (B[0][0] + B[0][1])\n",
    "    p7 = (A[0][1] - A[1][1]) * (B[1][0] + B[1][1])\n",
    "\n",
    "    M[0][0] = p1 + p4 - p5 + p7\n",
    "    M[0][1] = p3 + p5\n",
    "    M[1][0] = p2 + p4\n",
    "    M[1][1] = p1 + p3 - p2 + p6\n",
    "\n",
    "    return M"
   ]
  },
  {
   "cell_type": "code",
   "execution_count": 212,
   "id": "b6c1422c",
   "metadata": {},
   "outputs": [],
   "source": [
    "# mattrix addition for 2x2 matrices\n",
    "def matadd_2x2(A, B):\n",
    "    \"\"\"\n",
    "    Adds two 2x2 matrices A and B.\n",
    "    \"\"\"\n",
    "    return [[A[0][0] + B[0][0], A[0][1] + B[0][1]],\n",
    "            [A[1][0] + B[1][0], A[1][1] + B[1][1]]]\n",
    "\n",
    "# matrix subtraction for 2x2 matrices\n",
    "def matsub_2x2(A, B):\n",
    "    \"\"\"\n",
    "    Subtracts matrix B from matrix A.\n",
    "    \"\"\"\n",
    "    return [[A[0][0] - B[0][0], A[0][1] - B[0][1]],\n",
    "            [A[1][0] - B[1][0], A[1][1] - B[1][1]]]"
   ]
  },
  {
   "cell_type": "markdown",
   "id": "7fa20e88",
   "metadata": {},
   "source": [
    "then lets do this for 4x4 matrices"
   ]
  },
  {
   "cell_type": "code",
   "execution_count": 213,
   "id": "65a48548",
   "metadata": {},
   "outputs": [],
   "source": [
    "# define 2 4x4 matrices\n",
    "A = [[1,2,3,4],[5,6,7,8],[9,10,11,12],[13,14,15,16]] # matrix A\n",
    "B = [[17,18,19,20],[21,22,23,24],[25,26,27,28],[29,30,31,32]] # matrix B\n",
    "M = [[0,0,0,0],[0,0,0,0],[0,0,0,0],[0,0,0,0]] # matrix M \n",
    "\n",
    "# decompose A and B into 4 2x2 matrices\n",
    "A11 = [[A[0][0], A[0][1]], [A[1][0], A[1][1]]]\n",
    "A12 = [[A[0][2], A[0][3]], [A[1][2], A[1][3]]]\n",
    "A21 = [[A[2][0], A[2][1]], [A[3][0], A[3][1]]]\n",
    "A22 = [[A[2][2], A[2][3]], [A[3][2], A[3][3]]]\n",
    "\n",
    "B11 = [[B[0][0], B[0][1]], [B[1][0], B[1][1]]]\n",
    "B12 = [[B[0][2], B[0][3]], [B[1][2], B[1][3]]]\n",
    "B21 = [[B[2][0], B[2][1]], [B[3][0], B[3][1]]]\n",
    "B22 = [[B[2][2], B[2][3]], [B[3][2], B[3][3]]]"
   ]
  },
  {
   "cell_type": "code",
   "execution_count": 214,
   "id": "4792a9af",
   "metadata": {},
   "outputs": [
    {
     "data": {
      "text/plain": [
       "[[12, 14], [20, 22]]"
      ]
     },
     "execution_count": 214,
     "metadata": {},
     "output_type": "execute_result"
    }
   ],
   "source": [
    "matadd_2x2(A11, A22)"
   ]
  },
  {
   "cell_type": "code",
   "execution_count": 215,
   "id": "aa9b007b",
   "metadata": {},
   "outputs": [],
   "source": [
    "p1 = matmul_2x2 ( matadd_2x2(A11, A22) , matadd_2x2(B11, B22) )\n",
    "p2 = matmul_2x2 ( matadd_2x2(A21, A22) , B11 )\n",
    "p3 = matmul_2x2 ( A11 , matsub_2x2(B12, B22) )\n",
    "p4 = matmul_2x2 ( A22 , matsub_2x2(B21, B11) )\n",
    "p5 = matmul_2x2 ( matadd_2x2(A11, A12) , B22 )\n",
    "p6 = matmul_2x2 ( matsub_2x2(A21, A11) , matadd_2x2(B11, B12) )\n",
    "p7 = matmul_2x2 ( matsub_2x2(A12, A22) , matadd_2x2(B21, B22) )\n",
    "\n",
    "C11 = matadd_2x2(matadd_2x2(p1, p4), matsub_2x2(p7, p5))\n",
    "C12 = matadd_2x2(p3, p5)\n",
    "C21 = matadd_2x2(p2, p4)\n",
    "C22 = matadd_2x2(matsub_2x2(p1, p2), matadd_2x2(p3, p6))\n"
   ]
  },
  {
   "cell_type": "code",
   "execution_count": 216,
   "id": "0d356ada",
   "metadata": {},
   "outputs": [
    {
     "data": {
      "text/plain": [
       "[[270, 280], [670, 696]]"
      ]
     },
     "execution_count": 216,
     "metadata": {},
     "output_type": "execute_result"
    }
   ],
   "source": [
    "C12"
   ]
  },
  {
   "cell_type": "code",
   "execution_count": 217,
   "id": "8c36e9d9",
   "metadata": {},
   "outputs": [
    {
     "data": {
      "text/plain": [
       "[[250, 260, 270, 280],\n",
       " [618, 644, 670, 696],\n",
       " [986, 1028, 1070, 1112],\n",
       " [1354, 1412, 1470, 1528]]"
      ]
     },
     "execution_count": 217,
     "metadata": {},
     "output_type": "execute_result"
    }
   ],
   "source": [
    "# Combine C blocks into full 4x4 matrix\n",
    "C = [\n",
    "    C11[0] + C12[0],\n",
    "    C11[1] + C12[1],\n",
    "    C21[0] + C22[0],\n",
    "    C21[1] + C22[1],\n",
    "    ]\n",
    "C"
   ]
  },
  {
   "cell_type": "code",
   "execution_count": 218,
   "id": "4976b20f",
   "metadata": {},
   "outputs": [
    {
     "name": "stdout",
     "output_type": "stream",
     "text": [
      "250 260 270 280 \n",
      "618 644 670 696 \n",
      "986 1028 1070 1112 \n",
      "1354 1412 1470 1528 \n"
     ]
    }
   ],
   "source": [
    "# conventional matrix multiplication\n",
    "M0 = [[0,0,0,0],[0,0,0,0],[0,0,0,0],[0,0,0,0]] # matrix M\n",
    "for i in range(4):\n",
    "    for j in range(4):\n",
    "        M0[i][j] = 0\n",
    "        for k in range(4):\n",
    "            M0[i][j] += A[i][k] * B[k][j]\n",
    "\n",
    "# print the result\n",
    "for i in range(4):\n",
    "    for j in range(4):\n",
    "        print(M0[i][j], end=' ')\n",
    "    print()"
   ]
  },
  {
   "cell_type": "markdown",
   "id": "b97a0793",
   "metadata": {},
   "source": [
    "## improved strassen \n",
    "\n",
    "https://epubs.siam.org/doi/pdf/10.1137/22M1502719 "
   ]
  },
  {
   "cell_type": "markdown",
   "id": "9ae11fbf",
   "metadata": {},
   "source": [
    "we reduce the number of additions to 12 additions(+/-)"
   ]
  },
  {
   "cell_type": "code",
   "execution_count": null,
   "id": "4fbce48f",
   "metadata": {},
   "outputs": [],
   "source": [
    "def matmul_2x2_imp (A, B):\n",
    "    \"\"\"\n",
    "    Multiplies two 2x2 matrices A and B using the Strassen algorithm.\n",
    "    \"\"\"\n",
    "    M = [[0, 0], [0, 0]]  # Resultant matrix\n",
    "\n",
    "    t1 = A[1][0] + A[1][1]\n",
    "    t2 = A[1][1] - A[0][1]\n",
    "    t3 = A[1][1] - A[0][0]\n",
    "    t4 = B[1][1] - B[0][0]\n",
    "    t5 = B[1][0] + B[1][1]\n",
    "    t6 = B[1][1] - B[0][1]\n",
    "    \n",
    "    m1 = A[0][0] * B[0][0]\n",
    "    m2 = A[0][1] * B[1][0]\n",
    "    m3 = A[1][0] * t4\n",
    "    m4 = A[1][1] * B[1][1]\n",
    "    m5 = t1 * t5\n",
    "    m6 = t2 * t6\n",
    "    m7 = t3 * B[0][1]\n",
    "\n",
    "    M[0][0] = m1 + m2\n",
    "    M[0][1] = m5 - m7\n",
    "    M[1][0] = m3 + m6\n",
    "    M[1][1] = m5 + m6 - m2 - m4\n",
    "\n",
    "    return M"
   ]
  },
  {
   "cell_type": "code",
   "execution_count": 220,
   "id": "7858f3dd",
   "metadata": {},
   "outputs": [],
   "source": [
    "G = [[1,2],[3,4]] # matrix G\n",
    "H = [[1,2],[3,4]] # matrix H"
   ]
  },
  {
   "cell_type": "code",
   "execution_count": 221,
   "id": "718d3978",
   "metadata": {},
   "outputs": [
    {
     "data": {
      "text/plain": [
       "[[7, 43], [13, 31]]"
      ]
     },
     "execution_count": 221,
     "metadata": {},
     "output_type": "execute_result"
    }
   ],
   "source": [
    "matmul_2x2_imp(G, H)"
   ]
  },
  {
   "cell_type": "code",
   "execution_count": 223,
   "id": "875f6487",
   "metadata": {},
   "outputs": [
    {
     "data": {
      "text/plain": [
       "[[7, 10], [15, 22]]"
      ]
     },
     "execution_count": 223,
     "metadata": {},
     "output_type": "execute_result"
    }
   ],
   "source": [
    "matmul_2x2(G, H)"
   ]
  },
  {
   "cell_type": "code",
   "execution_count": 222,
   "id": "34535619",
   "metadata": {},
   "outputs": [
    {
     "name": "stdout",
     "output_type": "stream",
     "text": [
      "7 10 \n",
      "15 22 \n"
     ]
    }
   ],
   "source": [
    "# conventional matrix multiplication\n",
    "M1 = [[0,0],[0,0]] # matrix M\n",
    "for i in range(2):\n",
    "    for j in range(2):\n",
    "        M1[i][j] = 0\n",
    "        for k in range(2):\n",
    "            M1[i][j] +=G[i][k] * H[k][j]\n",
    "\n",
    "# print the result\n",
    "for i in range(2):\n",
    "    for j in range(2):\n",
    "        print(M1[i][j], end=' ')\n",
    "    print()"
   ]
  },
  {
   "cell_type": "code",
   "execution_count": null,
   "id": "a0b3749c",
   "metadata": {},
   "outputs": [],
   "source": []
  }
 ],
 "metadata": {
  "kernelspec": {
   "display_name": "Python 3",
   "language": "python",
   "name": "python3"
  },
  "language_info": {
   "codemirror_mode": {
    "name": "ipython",
    "version": 3
   },
   "file_extension": ".py",
   "mimetype": "text/x-python",
   "name": "python",
   "nbconvert_exporter": "python",
   "pygments_lexer": "ipython3",
   "version": "3.12.0"
  }
 },
 "nbformat": 4,
 "nbformat_minor": 5
}
